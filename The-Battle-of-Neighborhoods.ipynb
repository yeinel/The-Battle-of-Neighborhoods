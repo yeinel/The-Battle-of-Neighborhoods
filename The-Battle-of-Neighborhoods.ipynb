{
    "nbformat_minor": 1, 
    "cells": [
        {
            "source": "   # Applied Data Science Capstone", 
            "cell_type": "markdown", 
            "metadata": {
                "collapsed": true
            }
        }, 
        {
            "source": "## *!The Battle of Neighborhoods!*", 
            "cell_type": "markdown", 
            "metadata": {}
        }, 
        {
            "source": "### 1- Introduction/Business Problem", 
            "cell_type": "markdown", 
            "metadata": {}
        }, 
        {
            "source": "**In Costa Rica there is a company that sells tours to places of New York and Toronto, this company wants to offer its customers the possibility of visualizing the similarities and differences between one city and another in order to make a decision based on their travel preferences.**\n\n**So in this project is aimed at tour operators interested in attracting more customers who wish to travel to the cities they offer, with the option to see the functionality between two of the major cities of note america such as Toronto and New York in our case.**", 
            "cell_type": "markdown", 
            "metadata": {}
        }, 
        {
            "source": "#### 1.1 Stackeholders", 
            "cell_type": "markdown", 
            "metadata": {}
        }, 
        {
            "source": "1. The project should interest companies that sell tours to different places and can easily recommend cities according to the similarity found with the help of the use of machine learning.\n\n2. People who want to travel and have doubts about the destination to choose because they do not have enough information about destinations to make a decision.", 
            "cell_type": "markdown", 
            "metadata": {}
        }, 
        {
            "source": "### 2- Description of the data to be used to solve the problem", 
            "cell_type": "markdown", 
            "metadata": {}
        }, 
        {
            "source": "**For this project we will use the knowledge acquired in course 9 to use the benefits of the Forsquare API to explore data from both cities and neighborhoods, and data that is relevant for people who travel such as coffee shops, hotels, restaurants that can visit and be close, theaters and many places for which to have a choice.**\n", 
            "cell_type": "markdown", 
            "metadata": {}
        }, 
        {
            "source": "**We will also use the data that wikipedia provides about each neighborhood of both cities which can be accessed from: https://en.wikipedia.org/wiki/List_of_postal_codes_of_Canada:_M.\n\n**Data from the neighborhoods of New York City will be charged from https://cocl.us/new_york_dataset.**\n\n**Both datasets must be joined with data where the geospatial coordinates are available in order to consult and explore the necessary data with the Forsquare API. These data will be loaded from the address http://cocl.us/Geospatial_data with the help of the python requests module**\n\nIt must be prepared and cleaned to apply the algorithms that we will need:\n\n1. First of all we will be working with all Boroughs that are necessary and provide value.\n2. To be able to use the wikipedia data, the first thing is to extract the table with the Borough information and convert it into a dataframe so that we can work with the data as we need it. We will do this with the help of the BeautifulSoup python module\n3. We will also eliminate all rows that have the value of \"Not assigned\" since they do not generate value.\n4. In the case of neighborhoods that have the value of \"Not assigned\" they will be assigned the same value as the \"Borough\" data.\n5. The similutud and differences will be based on the Boroughs, therefore we will group the Borough data and concatenate the values for each neighborhood.\n6. To be able to perform explorations with the Forsquare API we will need to cross the data with the coordinates dataset. The merge of the data will be done through the Postcode column.\n7. With the clean data for both New York and Toronto we can continue with the analysis of the data, the visualization to verify the current distribution of the data, train our machine learning model to generate the clusters and find the differences and similarities between Both cities.\n", 
            "cell_type": "markdown", 
            "metadata": {}
        }, 
        {
            "execution_count": null, 
            "cell_type": "code", 
            "metadata": {}, 
            "outputs": [], 
            "source": ""
        }
    ], 
    "metadata": {
        "kernelspec": {
            "display_name": "Python 3.6", 
            "name": "python3", 
            "language": "python"
        }, 
        "language_info": {
            "mimetype": "text/x-python", 
            "nbconvert_exporter": "python", 
            "version": "3.6.8", 
            "name": "python", 
            "file_extension": ".py", 
            "pygments_lexer": "ipython3", 
            "codemirror_mode": {
                "version": 3, 
                "name": "ipython"
            }
        }
    }, 
    "nbformat": 4
}